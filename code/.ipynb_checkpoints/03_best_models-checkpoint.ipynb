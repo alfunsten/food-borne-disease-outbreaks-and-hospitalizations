{
 "cells": [
  {
   "cell_type": "markdown",
   "metadata": {},
   "source": [
    "# Best Models"
   ]
  },
  {
   "cell_type": "markdown",
   "metadata": {},
   "source": [
    "### Contents:\n",
    " - [Import Data](#Import-Data)\n",
    " - [Overall Best: Model 1: Logistic Regression with Species and Illnesses Features](#Overall-Best:-Model-1:-Logistic-Regression-with-Species-and-Illnesses-Features)\n",
    " - [Model 5: Decision Tree with State, Location, Food, Species, Illnesses](#Model-5:-Decision-Tree-with-State,-Location,-Food,-Species,-Illnesses )"
   ]
  },
  {
   "cell_type": "code",
   "execution_count": 1,
   "metadata": {},
   "outputs": [],
   "source": [
    "import matplotlib.pyplot as plt \n",
    "import numpy as np\n",
    "import pandas as pd\n",
    "import seaborn as sns\n",
    "from sklearn.preprocessing import StandardScaler\n",
    "%matplotlib inline\n",
    "\n",
    "from sklearn.naive_bayes import MultinomialNB\n",
    "from sklearn.model_selection import train_test_split, GridSearchCV\n",
    "from sklearn.pipeline import make_pipeline\n",
    "from sklearn.linear_model import LogisticRegression\n",
    "from sklearn.neighbors import KNeighborsClassifier\n",
    "from sklearn.metrics import plot_confusion_matrix\n",
    "from sklearn.metrics import plot_roc_curve\n",
    "import matplotlib.pyplot as pl\n",
    "from sklearn.tree import DecisionTreeClassifier\n",
    "from sklearn.ensemble import RandomForestClassifier, ExtraTreesClassifier\n",
    "from category_encoders import OneHotEncoder\n",
    "from sklearn.compose import make_column_transformer, make_column_selector\n",
    "from sklearn.metrics import precision_score, recall_score, f1_score, balanced_accuracy_score\n",
    "from sklearn.impute import SimpleImputer\n",
    "from sklearn.dummy import DummyClassifier \n",
    "from imblearn.over_sampling import RandomOverSampler "
   ]
  },
  {
   "cell_type": "markdown",
   "metadata": {},
   "source": [
    "## Import Data"
   ]
  },
  {
   "cell_type": "code",
   "execution_count": 2,
   "metadata": {},
   "outputs": [],
   "source": [
    "df_clean = pd.read_csv('../data/clean_df.csv')\n",
    "\n",
    "df_clean.drop('Unnamed: 0', axis =1, inplace = True)"
   ]
  },
  {
   "cell_type": "code",
   "execution_count": 3,
   "metadata": {},
   "outputs": [],
   "source": [
    "df_clean['Hospitalizations'] = np.where(df_clean['Hospitalizations'] > 0, 1, 0)"
   ]
  },
  {
   "cell_type": "code",
   "execution_count": 4,
   "metadata": {},
   "outputs": [],
   "source": [
    "X = df_clean[['Species','Illnesses']]\n",
    "\n",
    "y = df_clean['Hospitalizations']\n",
    "\n",
    "X_train, X_test, y_train, y_test = train_test_split(X, y, stratify = y, random_state = 22)"
   ]
  },
  {
   "cell_type": "markdown",
   "metadata": {},
   "source": [
    "## Overall Best: Model 1: Logistic Regression with Species and Illnesses Features"
   ]
  },
  {
   "cell_type": "code",
   "execution_count": 5,
   "metadata": {},
   "outputs": [
    {
     "name": "stderr",
     "output_type": "stream",
     "text": [
      "/Users/annafunsten/opt/anaconda3/lib/python3.8/site-packages/category_encoders/utils.py:21: FutureWarning: is_categorical is deprecated and will be removed in a future version.  Use is_categorical_dtype instead\n",
      "  elif pd.api.types.is_categorical(cols):\n"
     ]
    },
    {
     "data": {
      "text/plain": [
       "GridSearchCV(estimator=Pipeline(steps=[('onehotencoder',\n",
       "                                        OneHotEncoder(use_cat_names=True)),\n",
       "                                       ('standardscaler', StandardScaler()),\n",
       "                                       ('logisticregression',\n",
       "                                        LogisticRegression())]),\n",
       "             n_jobs=-1,\n",
       "             param_grid={'logisticregression__C': [0.001, 0.01, 0.1, 1, 10,\n",
       "                                                   100]})"
      ]
     },
     "execution_count": 5,
     "metadata": {},
     "output_type": "execute_result"
    }
   ],
   "source": [
    "pipe1 = make_pipeline(OneHotEncoder(use_cat_names = True), StandardScaler(), LogisticRegression())\n",
    "\n",
    "params1 = {'logisticregression__C': [.001, .01, .1, 1, 10, 100]\n",
    "}\n",
    "\n",
    "gs_lrg1 = GridSearchCV(pipe1, params1, n_jobs=-1)\n",
    "\n",
    "gs_lrg1.fit(X_train, y_train)"
   ]
  },
  {
   "cell_type": "code",
   "execution_count": 6,
   "metadata": {},
   "outputs": [
    {
     "name": "stdout",
     "output_type": "stream",
     "text": [
      "0.8072155821159805\n",
      "0.809555408095554\n",
      "{'logisticregression__C': 0.1}\n"
     ]
    }
   ],
   "source": [
    "print(gs_lrg1.score(X_train, y_train))\n",
    "\n",
    "print(gs_lrg1.score(X_test, y_test))\n",
    "\n",
    "print(gs_lrg1.best_params_)"
   ]
  },
  {
   "cell_type": "code",
   "execution_count": 7,
   "metadata": {},
   "outputs": [
    {
     "name": "stdout",
     "output_type": "stream",
     "text": [
      "Largest Coef:\n",
      "        coefs                                           features\n",
      "133  0.761921                                          Illnesses\n",
      "0    0.682441                        Species_Salmonella enterica\n",
      "3    0.572767    Species_Escherichia coli, Shiga toxin-producing\n",
      "34   0.425950                      Species_Clostridium botulinum\n",
      "12   0.324172                     Species_Listeria monocytogenes\n",
      "48   0.161330                           Species_Brucella unknown\n",
      "89   0.160949                     Species_Plant or herbal toxins\n",
      "29   0.157286  Species_Salmonella enterica; Campylobacter jejuni\n",
      "41   0.146439  Species_Salmonella enterica; Salmonella enteri...\n",
      "36   0.136906                           Species_Salmonella other\n",
      "Smallest Coef:\n",
      "       coefs                                          features\n",
      "9  -0.496518                   Species_Clostridium perfringens\n",
      "8  -0.304111                           Species_Scombroid toxin\n",
      "6  -0.297981                     Species_Norovirus genogroup I\n",
      "14 -0.255041                           Species_Bacillus cereus\n",
      "18 -0.227069  Species_Bacillus cereus; Clostridium perfringens\n",
      "15 -0.201041                         Species_Norovirus unknown\n",
      "52 -0.175548                                     Species_Virus\n",
      "42 -0.164011                                 Species_Bacterium\n",
      "11 -0.151304                    Species_Norovirus genogroup II\n",
      "59 -0.141918                              Species_Heavy metals\n"
     ]
    }
   ],
   "source": [
    "coefs1 = gs_lrg1.best_estimator_.named_steps['logisticregression'].coef_\n",
    "\n",
    "features1 = gs_lrg1.best_estimator_.named_steps['onehotencoder'].get_feature_names()\n",
    "\n",
    "coef_df1 = pd.DataFrame({'coefs': coefs1[0], \n",
    "                        'features': features1})\n",
    "\n",
    "print(f'Largest Coef:')\n",
    "print(coef_df1.nlargest(10, 'coefs'))\n",
    "\n",
    "print(f'Smallest Coef:')\n",
    "print(coef_df1.nsmallest(10, 'coefs'))"
   ]
  },
  {
   "cell_type": "markdown",
   "metadata": {},
   "source": [
    "Highest coef with simple logistic regression model are illnesses, Species_Salmonella enterica and Species_Escherichia coli, Shiga toxin-producing showing that these features would increase likelihood of hospitalizations. Lowest coef Species_Heavy metals, Species_Norovirus genogroup II,  Species_Bacterium would decrease probability of hospitalization"
   ]
  },
  {
   "cell_type": "code",
   "execution_count": 8,
   "metadata": {},
   "outputs": [
    {
     "data": {
      "image/png": "[encoded data removed]",
      "text/plain": [
       "<Figure size 432x288 with 2 Axes>"
      ]
     },
     "metadata": {
      "needs_background": "light"
     },
     "output_type": "display_data"
    }
   ],
   "source": [
    "plot_confusion_matrix(gs_lrg1, X_test, y_test, display_labels = ['Not Hospitalized', 'Hospitalized'])\n",
    "plt.title('Logistic Regression Confusion Matrix with Illnesses and Species');"
   ]
  },
  {
   "cell_type": "code",
   "execution_count": 9,
   "metadata": {},
   "outputs": [
    {
     "data": {
      "image/png": "[encoded data removed]",
      "text/plain": [
       "<Figure size 432x288 with 1 Axes>"
      ]
     },
     "metadata": {
      "needs_background": "light"
     },
     "output_type": "display_data"
    }
   ],
   "source": [
    "plot_roc_curve(gs_lrg1, X_test, y_test)\n",
    "plt.title('Logistic Regression ROC Curve with Illnesses and Species');"
   ]
  },
  {
   "cell_type": "code",
   "execution_count": 10,
   "metadata": {},
   "outputs": [
    {
     "name": "stdout",
     "output_type": "stream",
     "text": [
      "0.3321033210332104\n",
      "0.7161226508407518\n"
     ]
    }
   ],
   "source": [
    "pred = gs_lrg1.predict(X_test)\n",
    "\n",
    "print(1 - recall_score(y_test, pred)) #false negatives FN/FN+TP\n",
    "\n",
    "print(f1_score(y_test, pred)) #precision and recall looking to see if low false positive and low false negative rates"
   ]
  },
  {
   "cell_type": "markdown",
   "metadata": {},
   "source": [
    "Highest f1 score of 0.71 and lowest false negtive rate at 0.33"
   ]
  },
  {
   "cell_type": "markdown",
   "metadata": {},
   "source": [
    "## Model 5: Decision Tree with State, Location, Food, Species, Illnesses "
   ]
  },
  {
   "cell_type": "code",
   "execution_count": 11,
   "metadata": {},
   "outputs": [],
   "source": [
    "X = df_clean[['State', 'Location', 'Food', 'Species', 'Illnesses']]\n",
    "\n",
    "y = df_clean['Hospitalizations']\n",
    "\n",
    "X_train, X_test, y_train, y_test = train_test_split(X, y, stratify = y, random_state = 22)"
   ]
  },
  {
   "cell_type": "code",
   "execution_count": 12,
   "metadata": {},
   "outputs": [
    {
     "name": "stderr",
     "output_type": "stream",
     "text": [
      "/Users/annafunsten/opt/anaconda3/lib/python3.8/site-packages/category_encoders/utils.py:21: FutureWarning: is_categorical is deprecated and will be removed in a future version.  Use is_categorical_dtype instead\n",
      "  elif pd.api.types.is_categorical(cols):\n"
     ]
    },
    {
     "data": {
      "text/plain": [
       "GridSearchCV(estimator=Pipeline(steps=[('onehotencoder',\n",
       "                                        OneHotEncoder(use_cat_names=True)),\n",
       "                                       ('simpleimputer',\n",
       "                                        SimpleImputer(strategy='most_frequent')),\n",
       "                                       ('decisiontreeclassifier',\n",
       "                                        DecisionTreeClassifier())]),\n",
       "             n_jobs=-1,\n",
       "             param_grid={'decisiontreeclassifier__max_depth': [5, 10, 50]})"
      ]
     },
     "execution_count": 12,
     "metadata": {},
     "output_type": "execute_result"
    }
   ],
   "source": [
    "pipe5 = make_pipeline(OneHotEncoder(use_cat_names = True), SimpleImputer(strategy = 'most_frequent'), DecisionTreeClassifier())\n",
    "\n",
    "params5 = {'decisiontreeclassifier__max_depth': [5,10,50]}\n",
    "\n",
    "gs_tree5 = GridSearchCV(pipe5, params5, n_jobs=-1)\n",
    "\n",
    "gs_tree5.fit(X_train, y_train)"
   ]
  },
  {
   "cell_type": "code",
   "execution_count": 13,
   "metadata": {},
   "outputs": [
    {
     "name": "stdout",
     "output_type": "stream",
     "text": [
      "0.8251438689685702\n",
      "0.7989382879893829\n",
      "{'decisiontreeclassifier__max_depth': 10}\n"
     ]
    }
   ],
   "source": [
    "print(gs_tree5.score(X_train, y_train))\n",
    "\n",
    "print(gs_tree5.score(X_test, y_test))\n",
    "\n",
    "print(gs_tree5.best_params_)"
   ]
  },
  {
   "cell_type": "code",
   "execution_count": 14,
   "metadata": {},
   "outputs": [
    {
     "name": "stdout",
     "output_type": "stream",
     "text": [
      "Largest Feature Importance:\n",
      "      importance                                         features\n",
      "1898    0.329258                      Species_Salmonella enterica\n",
      "1901    0.181121  Species_Escherichia coli, Shiga toxin-producing\n",
      "2031    0.128005                                        Illnesses\n",
      "1932    0.054243                    Species_Clostridium botulinum\n",
      "1910    0.038064                   Species_Listeria monocytogenes\n",
      "1907    0.018743                  Species_Clostridium perfringens\n",
      "56      0.015598                  Location_Private Home/Residence\n",
      "1919    0.012748                          Species_Shigella sonnei\n",
      "1928    0.011339                              Species_Hepatitis A\n",
      "54      0.008657                              Location_Restaurant\n",
      "1899    0.007835                               Species_Mycotoxins\n",
      "16      0.006986                                       State_Utah\n",
      "3       0.006826                                       State_Ohio\n",
      "1946    0.006708                         Species_Brucella unknown\n",
      "1942    0.005802               Species_Paralytic shellfish poison\n",
      "0       0.005666                                 State_Washington\n",
      "195     0.005287                               Food_Pork, Roasted\n",
      "1905    0.005269                    Species_Staphylococcus aureus\n",
      "1924    0.004843                       Species_Salmonella unknown\n",
      "1987    0.004747                   Species_Plant or herbal toxins\n",
      "27      0.004321                                  State_Tennessee\n",
      "1902    0.004309                     Species_Campylobacter jejuni\n",
      "70      0.004303                             Location_Prison/Jail\n",
      "72      0.004126      Location_Restaurant; Private Home/Residence\n",
      "10      0.004084                                 State_Multistate\n",
      "4       0.004006                                 State_California\n",
      "381     0.003995                        Food_Lettuce Based Salads\n",
      "348     0.003785                               Food_Chicken Salad\n",
      "17      0.003402                                    State_Florida\n",
      "175     0.002948                        Food_Chicken, Unspecified\n",
      "Smallest Feature Importance:\n",
      "    importance              features\n",
      "1          0.0        State_Illinois\n",
      "5          0.0     State_Connecticut\n",
      "6          0.0    State_Pennsylvania\n",
      "7          0.0       State_Louisiana\n",
      "8          0.0        State_Michigan\n",
      "9          0.0       State_Minnesota\n",
      "11         0.0      State_New Jersey\n",
      "13         0.0        State_New York\n",
      "14         0.0    State_North Dakota\n",
      "15         0.0  State_North Carolina\n"
     ]
    }
   ],
   "source": [
    "importance5 = gs_tree5.best_estimator_.named_steps['decisiontreeclassifier'].feature_importances_\n",
    "\n",
    "features5 = gs_tree5.best_estimator_.named_steps['onehotencoder'].get_feature_names()\n",
    "\n",
    "importance_df5 = pd.DataFrame({'importance': importance5, \n",
    "                        'features': features5})\n",
    "\n",
    "print(f'Largest Feature Importance:')\n",
    "print(importance_df5.nlargest(30, 'importance'))\n",
    "\n",
    "print(f'Smallest Feature Importance:')\n",
    "print(importance_df5.nsmallest(10, 'importance'))"
   ]
  },
  {
   "cell_type": "markdown",
   "metadata": {},
   "source": [
    "Features ranked with the greatest importance are Species_Salmonella enterica, Species_Escherichia coli, Shiga toxin-producing, Illnesses, location restaurant, state of Utak also ranked high on feature importance and Food_Pork, Roasted ranked high on feature importance to predict likelihood of hospitalization."
   ]
  },
  {
   "cell_type": "code",
   "execution_count": 15,
   "metadata": {},
   "outputs": [
    {
     "data": {
      "image/png": "[encoded data removed]",
      "text/plain": [
       "<Figure size 432x288 with 2 Axes>"
      ]
     },
     "metadata": {
      "needs_background": "light"
     },
     "output_type": "display_data"
    }
   ],
   "source": [
    "plot_confusion_matrix(gs_tree5, X_test, y_test, display_labels = ['Not Hospitalized', 'Hospitalized'])\n",
    "plt.title('Confusion Matrix Tree Classifier with State, Location, Food, Species, Illnesses');"
   ]
  },
  {
   "cell_type": "code",
   "execution_count": 16,
   "metadata": {},
   "outputs": [
    {
     "data": {
      "image/png": "[encoded data removed]",
      "text/plain": [
       "<Figure size 432x288 with 1 Axes>"
      ]
     },
     "metadata": {
      "needs_background": "light"
     },
     "output_type": "display_data"
    }
   ],
   "source": [
    "plot_roc_curve(gs_tree5, X_test, y_test)\n",
    "plt.title('ROC Curve Tree Classifier with State, Location, Food, Species, Illnesses');"
   ]
  },
  {
   "cell_type": "code",
   "execution_count": 17,
   "metadata": {},
   "outputs": [
    {
     "name": "stdout",
     "output_type": "stream",
     "text": [
      "0.3948339483394834\n",
      "0.6840458811261731\n"
     ]
    }
   ],
   "source": [
    "pred = gs_tree5.predict(X_test)\n",
    "\n",
    "print(1- recall_score(y_test, pred))\n",
    "\n",
    "print(f1_score(y_test, pred))"
   ]
  },
  {
   "cell_type": "markdown",
   "metadata": {},
   "source": [
    "Low false negative score and a little lower f1 score than simple logistic regression model"
   ]
  },
  {
   "cell_type": "code",
   "execution_count": null,
   "metadata": {},
   "outputs": [],
   "source": []
  }
 ],
 "metadata": {
  "kernelspec": {
   "display_name": "Python 3",
   "language": "python",
   "name": "python3"
  },
  "language_info": {
   "codemirror_mode": {
    "name": "ipython",
    "version": 3
   },
   "file_extension": ".py",
   "mimetype": "text/x-python",
   "name": "python",
   "nbconvert_exporter": "python",
   "pygments_lexer": "ipython3",
   "version": "3.8.8"
  }
 },
 "nbformat": 4,
 "nbformat_minor": 4
}
