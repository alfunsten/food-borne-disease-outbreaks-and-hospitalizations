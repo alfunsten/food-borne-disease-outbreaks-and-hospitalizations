{
 "cells": [
  {
   "cell_type": "markdown",
   "metadata": {},
   "source": [
    "# Table of Contents"
   ]
  },
  {
   "cell_type": "markdown",
   "metadata": {},
   "source": [
    "[01 - Data Cleaning and EDA](01_data_cleaning_and_EDA.ipynb)<br />\n",
    "\n",
    " - Import Data <br/>\n",
    " - Evaluate Missing Values <br />\n",
    " - EDA <br />\n",
    " - Export Clean Data <br/>"
   ]
  },
  {
   "cell_type": "markdown",
   "metadata": {},
   "source": [
    "[02 - Preprocessing and Modeling](02_preprocessing_and_modeling.ipynb)<br />\n",
    "\n",
    " - Import Data <br />\n",
    " - Baseline Model <br />\n",
    " - Logistic Regression <br />\n",
    " - Naive Bayes <br />\n",
    " - Decision Tree <br />\n",
    " - Knn <br />\n"
   ]
  },
  {
   "cell_type": "markdown",
   "metadata": {},
   "source": [
    "[03 - Best Models](03_best_models.ipynb)<br />\n",
    " - Import Data <br />\n",
    " - Logistic Regression Model <br />\n",
    " - Decision Tree Model <br />"
   ]
  },
  {
   "cell_type": "markdown",
   "metadata": {},
   "source": [
    "[04 - Summary](04_summary.ipynb)<br />\n",
    " - Executive Summary <br/>\n",
    " - Conclusion <br/>\n",
    " - Recommendations <br/>\n",
    " - Limitations <br/>"
   ]
  }
 ],
 "metadata": {
  "kernelspec": {
   "display_name": "Python 3",
   "language": "python",
   "name": "python3"
  },
  "language_info": {
   "codemirror_mode": {
    "name": "ipython",
    "version": 3
   },
   "file_extension": ".py",
   "mimetype": "text/x-python",
   "name": "python",
   "nbconvert_exporter": "python",
   "pygments_lexer": "ipython3",
   "version": "3.8.5"
  }
 },
 "nbformat": 4,
 "nbformat_minor": 4
}
