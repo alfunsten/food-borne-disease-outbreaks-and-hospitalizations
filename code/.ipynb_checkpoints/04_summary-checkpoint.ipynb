{
 "cells": [
  {
   "cell_type": "markdown",
   "metadata": {},
   "source": [
    "# Summary"
   ]
  },
  {
   "cell_type": "markdown",
   "metadata": {},
   "source": [
    " ### Contents:\n",
    " - [Executive Summary](#Executive-Summary)\n",
    " - [Conclusion](#Conclusion)\n",
    " - [Recommendations](#Recommendations)\n",
    " - [Limitations](#Limitations)"
   ]
  },
  {
   "cell_type": "markdown",
   "metadata": {},
   "source": [
    "## Executive Summary"
   ]
  },
  {
   "cell_type": "markdown",
   "metadata": {},
   "source": [
    "After evaluating food-borne illness 1998-2015 data from the CDC, it is apparent that there are specific factors that can increase your likelihood of being hospitalized after contracting a food-borne illness. This analysis takes a deeper look into what factors might increase the likelihood of an individual being hospitalized for a food-borne illness and also looks at multiple classification models to predict hospitalization risk. Logistic Regression, Naive Bayes, KNN Classifier, and Decision Tree Classifier models were all used to evaluate likelihood of hospitalization after given a food-borne illness outbreak. "
   ]
  },
  {
   "cell_type": "markdown",
   "metadata": {},
   "source": [
    "## Conclusion "
   ]
  },
  {
   "cell_type": "markdown",
   "metadata": {},
   "source": [
    "After evaluating Logistic Regression, Naive Bayes, KNN Classifier, and Decision Tree Classifier models, both a simple logistic regression model and a slightly more comples Decision Tree Classifier presented the best scores when looking at f1 and flase negative rates. \n",
    "\n",
    "The simple logistic regression model performed the best and used species and number of illnesses in the outbreak as features and produces the highest f1 score of 0.71 and lowest false negtive rate at 0.33. Highest coef with simple logistic regression model are illnesses, Species_Salmonella enterica and Species_Escherichia coli, Shiga toxin-producing showing that these features would increase likelihood of hospitalizations. Lowest coef Species_Heavy metals, Species_Norovirus genogroup II,  Species_Bacterium would decrease probability of hospitalization.\n",
    "\n",
    "The second best model was Decision Tree Classifier which used State, Location, Food, Species, Illnesses as features and produced a false negative score of 0.395 and f1 score of 0.68. Features ranked with the greatest importance in this model are Species_Salmonella enterica, Species_Escherichia coli, Shiga toxin-producing, Illnesses, location being restaurant, state of Utah also ranked high on feature importance and Food_Pork, Roasted ranked high on feature importance to predict likelihood of hospitalization."
   ]
  },
  {
   "cell_type": "markdown",
   "metadata": {},
   "source": [
    "## Recommendations"
   ]
  },
  {
   "cell_type": "markdown",
   "metadata": {},
   "source": [
    "Based on this analysis, I would pay attention to the number of illnesses an outbreak has, the species of Species_Salmonella enterica and Species_Escherichia coli, Shiga toxin-producing, and the location of the outbreak being a restaurant setting since these factors appear to increase the likelihood of hospitalization. "
   ]
  },
  {
   "cell_type": "markdown",
   "metadata": {},
   "source": [
    "## Limitations"
   ]
  },
  {
   "cell_type": "markdown",
   "metadata": {},
   "source": [
    "The data was slightly imbalanced with 0.640498 of the data having cases that were not hospitalized and 0.359502 with cases that were hospitalized. In future, it would be useful to models addressing imbalanced data and also looking at some other classification models such as random forest and extra trees."
   ]
  }
 ],
 "metadata": {
  "kernelspec": {
   "display_name": "Python 3",
   "language": "python",
   "name": "python3"
  },
  "language_info": {
   "codemirror_mode": {
    "name": "ipython",
    "version": 3
   },
   "file_extension": ".py",
   "mimetype": "text/x-python",
   "name": "python",
   "nbconvert_exporter": "python",
   "pygments_lexer": "ipython3",
   "version": "3.8.5"
  }
 },
 "nbformat": 4,
 "nbformat_minor": 4
}
