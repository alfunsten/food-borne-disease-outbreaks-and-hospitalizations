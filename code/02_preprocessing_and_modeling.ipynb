{
 "cells": [
  {
   "cell_type": "markdown",
   "metadata": {},
   "source": [
    "## Preprocessing and Modeling"
   ]
  },
  {
   "cell_type": "markdown",
   "metadata": {},
   "source": [
    "### Contents:\n",
    " - [Import Data](#Import-Data)\n",
    " - [Baseline Model](#Baseline-Model)\n",
    " - [Model 1: Logistic Regression with Species and Illnesses Features](#Model-1:-Logistic-Regression-with-Species-and-Illnesses-Features)\n",
    " \n",
    " -[Model 2: Logistic Regression with all Features in Clean Dataset](#Model-2:-Logistic-Regression-with-all-Features-in-Clean-Dataset)\n",
    " -[Model 3: Logistic Regression with State, Location, Food, Species, Illnesses](#Model-3:-Logistic-Regression-with-State,-Location,-Food,-Species,-Illnesses )\n",
    " - [Model 4: Naive Bayes with State, Location, Food, Species, Illnesses ](#Model-4:-Naive-Bayes-with-State,-Location,-Food,-Species,-Illnesses )\n",
    " - [Model 5: Decision Tree with State, Location, Food, Species, Illnesses](#Model-5:-Decision-Tree-with-State,-Location,-Food,-Species,-Illnesses )\n",
    " - [Model 6: KNN with State, Location, Food, Species, Illnesses](#Model-6:-KNN-with-State,-Location,-Food,-Species,-Illnesses )"
   ]
  },
  {
   "cell_type": "code",
   "execution_count": 4,
   "metadata": {},
   "outputs": [],
   "source": [
    "import matplotlib.pyplot as plt \n",
    "import numpy as np\n",
    "import pandas as pd\n",
    "import seaborn as sns\n",
    "from sklearn.preprocessing import StandardScaler\n",
    "%matplotlib inline\n",
    "\n",
    "from sklearn.naive_bayes import MultinomialNB\n",
    "from sklearn.model_selection import train_test_split, GridSearchCV\n",
    "from sklearn.pipeline import make_pipeline\n",
    "from sklearn.linear_model import LogisticRegression\n",
    "from sklearn.neighbors import KNeighborsClassifier\n",
    "from sklearn.metrics import plot_confusion_matrix\n",
    "from sklearn.metrics import plot_roc_curve\n",
    "from sklearn.tree import DecisionTreeClassifier\n",
    "from sklearn.ensemble import RandomForestClassifier, ExtraTreesClassifier\n",
    "from category.encoders import OneHotEncoder\n",
    "from sklearn.compose import make_column_transformer, make_column_selector\n",
    "from sklearn.metrics import precision_score, recall_score, f1_score, balanced_accuracy_score\n",
    "from sklearn.impute import SimpleImputer\n",
    "from sklearn.dummy import DummyClassifier "
   ]
  },
  {
   "cell_type": "code",
   "execution_count": 5,
   "metadata": {},
   "outputs": [],
   "source": [
    "import matplotlib.pyplot as plt \n",
    "import numpy as np\n",
    "import pandas as pd\n",
    "import seaborn as sns"
   ]
  },
  {
   "cell_type": "markdown",
   "metadata": {},
   "source": [
    "## Import Data"
   ]
  },
  {
   "cell_type": "code",
   "execution_count": 6,
   "metadata": {},
   "outputs": [],
   "source": [
    "df_clean = pd.read_csv('../data/clean_df.csv')\n",
    "\n",
    "df_clean.drop('Unnamed: 0', axis =1, inplace = True)"
   ]
  },
  {
   "cell_type": "code",
   "execution_count": 8,
   "metadata": {},
   "outputs": [
    {
     "name": "stdout",
     "output_type": "stream",
     "text": [
      "<class 'pandas.core.frame.DataFrame'>\n",
      "RangeIndex: 6025 entries, 0 to 6024\n",
      "Data columns (total 9 columns):\n",
      " #   Column            Non-Null Count  Dtype  \n",
      "---  ------            --------------  -----  \n",
      " 0   Year              6025 non-null   int64  \n",
      " 1   Month             6025 non-null   object \n",
      " 2   State             6025 non-null   object \n",
      " 3   Location          5360 non-null   object \n",
      " 4   Food              6025 non-null   object \n",
      " 5   Species           6025 non-null   object \n",
      " 6   Illnesses         6025 non-null   int64  \n",
      " 7   Hospitalizations  6025 non-null   float64\n",
      " 8   Fatalities        5851 non-null   float64\n",
      "dtypes: float64(2), int64(2), object(5)\n",
      "memory usage: 423.8+ KB\n"
     ]
    }
   ],
   "source": [
    "df_clean.info()"
   ]
  },
  {
   "cell_type": "code",
   "execution_count": 179,
   "metadata": {},
   "outputs": [
    {
     "data": {
      "text/plain": [
       "0    0.640498\n",
       "1    0.359502\n",
       "Name: Hospitalizations, dtype: float64"
      ]
     },
     "execution_count": 179,
     "metadata": {},
     "output_type": "execute_result"
    }
   ],
   "source": [
    "df_clean['Hospitalizations'].value_counts(normalize = True)"
   ]
  },
  {
   "cell_type": "code",
   "execution_count": 6,
   "metadata": {},
   "outputs": [
    {
     "data": {
      "text/html": [
       "<div>\n",
       "<style scoped>\n",
       "    .dataframe tbody tr th:only-of-type {\n",
       "        vertical-align: middle;\n",
       "    }\n",
       "\n",
       "    .dataframe tbody tr th {\n",
       "        vertical-align: top;\n",
       "    }\n",
       "\n",
       "    .dataframe thead th {\n",
       "        text-align: right;\n",
       "    }\n",
       "</style>\n",
       "<table border=\"1\" class=\"dataframe\">\n",
       "  <thead>\n",
       "    <tr style=\"text-align: right;\">\n",
       "      <th></th>\n",
       "      <th>Year</th>\n",
       "      <th>Month</th>\n",
       "      <th>State</th>\n",
       "      <th>Location</th>\n",
       "      <th>Food</th>\n",
       "      <th>Species</th>\n",
       "      <th>Illnesses</th>\n",
       "      <th>Hospitalizations</th>\n",
       "      <th>Fatalities</th>\n",
       "    </tr>\n",
       "  </thead>\n",
       "  <tbody>\n",
       "    <tr>\n",
       "      <th>0</th>\n",
       "      <td>1998</td>\n",
       "      <td>January</td>\n",
       "      <td>California</td>\n",
       "      <td>Restaurant</td>\n",
       "      <td>Fish, Ahi</td>\n",
       "      <td>Scombroid toxin</td>\n",
       "      <td>4</td>\n",
       "      <td>0.0</td>\n",
       "      <td>0.0</td>\n",
       "    </tr>\n",
       "    <tr>\n",
       "      <th>1</th>\n",
       "      <td>1998</td>\n",
       "      <td>January</td>\n",
       "      <td>California</td>\n",
       "      <td>Private Home/Residence</td>\n",
       "      <td>Lasagna, Unspecified; Eggs, Other</td>\n",
       "      <td>Salmonella enterica</td>\n",
       "      <td>26</td>\n",
       "      <td>3.0</td>\n",
       "      <td>0.0</td>\n",
       "    </tr>\n",
       "    <tr>\n",
       "      <th>2</th>\n",
       "      <td>1998</td>\n",
       "      <td>January</td>\n",
       "      <td>California</td>\n",
       "      <td>Restaurant</td>\n",
       "      <td>Stuffing, Unspecified; Sandwich, Turkey</td>\n",
       "      <td>Salmonella enterica</td>\n",
       "      <td>4</td>\n",
       "      <td>3.0</td>\n",
       "      <td>0.0</td>\n",
       "    </tr>\n",
       "    <tr>\n",
       "      <th>3</th>\n",
       "      <td>1998</td>\n",
       "      <td>January</td>\n",
       "      <td>Florida</td>\n",
       "      <td>Restaurant</td>\n",
       "      <td>Ethnic Style, Unspecified</td>\n",
       "      <td>Clostridium perfringens</td>\n",
       "      <td>3</td>\n",
       "      <td>0.0</td>\n",
       "      <td>0.0</td>\n",
       "    </tr>\n",
       "    <tr>\n",
       "      <th>4</th>\n",
       "      <td>1998</td>\n",
       "      <td>January</td>\n",
       "      <td>Florida</td>\n",
       "      <td>Restaurant</td>\n",
       "      <td>Ground Beef, Cheeseburger</td>\n",
       "      <td>Staphylococcus aureus</td>\n",
       "      <td>2</td>\n",
       "      <td>0.0</td>\n",
       "      <td>0.0</td>\n",
       "    </tr>\n",
       "  </tbody>\n",
       "</table>\n",
       "</div>"
      ],
      "text/plain": [
       "   Year    Month       State                Location  \\\n",
       "0  1998  January  California              Restaurant   \n",
       "1  1998  January  California  Private Home/Residence   \n",
       "2  1998  January  California              Restaurant   \n",
       "3  1998  January     Florida              Restaurant   \n",
       "4  1998  January     Florida              Restaurant   \n",
       "\n",
       "                                      Food                  Species  \\\n",
       "0                                Fish, Ahi          Scombroid toxin   \n",
       "1        Lasagna, Unspecified; Eggs, Other      Salmonella enterica   \n",
       "2  Stuffing, Unspecified; Sandwich, Turkey      Salmonella enterica   \n",
       "3                Ethnic Style, Unspecified  Clostridium perfringens   \n",
       "4                Ground Beef, Cheeseburger    Staphylococcus aureus   \n",
       "\n",
       "   Illnesses  Hospitalizations  Fatalities  \n",
       "0          4               0.0         0.0  \n",
       "1         26               3.0         0.0  \n",
       "2          4               3.0         0.0  \n",
       "3          3               0.0         0.0  \n",
       "4          2               0.0         0.0  "
      ]
     },
     "execution_count": 6,
     "metadata": {},
     "output_type": "execute_result"
    }
   ],
   "source": [
    "df_clean.head()"
   ]
  },
  {
   "cell_type": "code",
   "execution_count": 8,
   "metadata": {},
   "outputs": [],
   "source": [
    "df_clean['Hospitalizations'] = np.where(df_clean['Hospitalizations'] > 0, 1, 0)"
   ]
  },
  {
   "cell_type": "code",
   "execution_count": 160,
   "metadata": {},
   "outputs": [],
   "source": [
    "X = df_clean[['Species','Illnesses']]\n",
    "\n",
    "y = df_clean['Hospitalizations']\n",
    "\n",
    "X_train, X_test, y_train, y_test = train_test_split(X, y, stratify = y, random_state = 22)"
   ]
  },
  {
   "cell_type": "markdown",
   "metadata": {},
   "source": [
    "## Baseline Model"
   ]
  },
  {
   "cell_type": "code",
   "execution_count": 161,
   "metadata": {},
   "outputs": [
    {
     "data": {
      "text/plain": [
       "DummyClassifier(strategy='most_frequent')"
      ]
     },
     "execution_count": 161,
     "metadata": {},
     "output_type": "execute_result"
    }
   ],
   "source": [
    "dc = DummyClassifier(strategy = 'most_frequent') \n",
    "dc.fit(X_train, y_train)"
   ]
  },
  {
   "cell_type": "code",
   "execution_count": 162,
   "metadata": {},
   "outputs": [
    {
     "data": {
      "text/plain": [
       "0.6403450564034505"
      ]
     },
     "execution_count": 162,
     "metadata": {},
     "output_type": "execute_result"
    }
   ],
   "source": [
    "dc.score(X_test, y_test)"
   ]
  },
  {
   "cell_type": "code",
   "execution_count": 163,
   "metadata": {},
   "outputs": [],
   "source": [
    "preds = dc.predict(X_test)"
   ]
  },
  {
   "cell_type": "code",
   "execution_count": 165,
   "metadata": {},
   "outputs": [
    {
     "name": "stdout",
     "output_type": "stream",
     "text": [
      "0.8800738007380073\n",
      "0.20344287949921752\n"
     ]
    }
   ],
   "source": [
    "print(1- recall_score(y_test, pred))\n",
    "print(f1_score(y_test, pred))"
   ]
  },
  {
   "cell_type": "markdown",
   "metadata": {},
   "source": [
    "Metric: f1 and false negative \n"
   ]
  },
  {
   "cell_type": "markdown",
   "metadata": {},
   "source": [
    "## Model 1: Logistic Regression with Species and Illnesses Features"
   ]
  },
  {
   "cell_type": "code",
   "execution_count": 97,
   "metadata": {},
   "outputs": [
    {
     "name": "stderr",
     "output_type": "stream",
     "text": [
      "/Users/annafunsten/opt/anaconda3/lib/python3.8/site-packages/category_encoders/utils.py:21: FutureWarning: is_categorical is deprecated and will be removed in a future version.  Use is_categorical_dtype instead\n",
      "  elif pd.api.types.is_categorical(cols):\n"
     ]
    },
    {
     "data": {
      "text/plain": [
       "GridSearchCV(estimator=Pipeline(steps=[('onehotencoder',\n",
       "                                        OneHotEncoder(use_cat_names=True)),\n",
       "                                       ('standardscaler', StandardScaler()),\n",
       "                                       ('logisticregression',\n",
       "                                        LogisticRegression())]),\n",
       "             n_jobs=-1,\n",
       "             param_grid={'logisticregression__C': [0.001, 0.01, 0.1, 1, 10,\n",
       "                                                   100]})"
      ]
     },
     "execution_count": 97,
     "metadata": {},
     "output_type": "execute_result"
    }
   ],
   "source": [
    "pipe1 = make_pipeline(OneHotEncoder(use_cat_names = True), StandardScaler(), LogisticRegression())\n",
    "\n",
    "params1 = {'logisticregression__C': [.001, .01, .1, 1, 10, 100]\n",
    "}\n",
    "\n",
    "gs_lrg1 = GridSearchCV(pipe1, params1, n_jobs=-1)\n",
    "\n",
    "gs_lrg1.fit(X_train, y_train)"
   ]
  },
  {
   "cell_type": "code",
   "execution_count": 98,
   "metadata": {},
   "outputs": [
    {
     "name": "stdout",
     "output_type": "stream",
     "text": [
      "0.8072155821159805\n",
      "0.809555408095554\n",
      "{'logisticregression__C': 0.1}\n"
     ]
    }
   ],
   "source": [
    "print(gs_lrg1.score(X_train, y_train))\n",
    "\n",
    "print(gs_lrg1.score(X_test, y_test))\n",
    "\n",
    "print(gs_lrg1.best_params_)"
   ]
  },
  {
   "cell_type": "code",
   "execution_count": 99,
   "metadata": {},
   "outputs": [
    {
     "name": "stdout",
     "output_type": "stream",
     "text": [
      "Largest Coef:\n",
      "        coefs                                           features\n",
      "133  0.761921                                          Illnesses\n",
      "0    0.682441                        Species_Salmonella enterica\n",
      "3    0.572767    Species_Escherichia coli, Shiga toxin-producing\n",
      "34   0.425950                      Species_Clostridium botulinum\n",
      "12   0.324172                     Species_Listeria monocytogenes\n",
      "48   0.161330                           Species_Brucella unknown\n",
      "89   0.160949                     Species_Plant or herbal toxins\n",
      "29   0.157286  Species_Salmonella enterica; Campylobacter jejuni\n",
      "41   0.146439  Species_Salmonella enterica; Salmonella enteri...\n",
      "36   0.136906                           Species_Salmonella other\n",
      "Smallest Coef:\n",
      "       coefs                                          features\n",
      "9  -0.496518                   Species_Clostridium perfringens\n",
      "8  -0.304111                           Species_Scombroid toxin\n",
      "6  -0.297981                     Species_Norovirus genogroup I\n",
      "14 -0.255041                           Species_Bacillus cereus\n",
      "18 -0.227069  Species_Bacillus cereus; Clostridium perfringens\n",
      "15 -0.201041                         Species_Norovirus unknown\n",
      "52 -0.175548                                     Species_Virus\n",
      "42 -0.164011                                 Species_Bacterium\n",
      "11 -0.151304                    Species_Norovirus genogroup II\n",
      "59 -0.141918                              Species_Heavy metals\n"
     ]
    }
   ],
   "source": [
    "coefs1 = gs_lrg1.best_estimator_.named_steps['logisticregression'].coef_\n",
    "\n",
    "features1 = gs_lrg1.best_estimator_.named_steps['onehotencoder'].get_feature_names()\n",
    "\n",
    "coef_df1 = pd.DataFrame({'coefs': coefs1[0], \n",
    "                        'features': features1})\n",
    "\n",
    "print(f'Largest Coef:')\n",
    "print(coef_df1.nlargest(10, 'coefs'))\n",
    "\n",
    "print(f'Smallest Coef:')\n",
    "print(coef_df1.nsmallest(10, 'coefs'))"
   ]
  },
  {
   "cell_type": "code",
   "execution_count": 100,
   "metadata": {},
   "outputs": [
    {
     "data": {
      "image/png": "[encoded data removed]",
      "text/plain": [
       "<Figure size 432x288 with 2 Axes>"
      ]
     },
     "metadata": {
      "needs_background": "light"
     },
     "output_type": "display_data"
    }
   ],
   "source": [
    "plot_confusion_matrix(gs_lrg1, X_test, y_test, display_labels = ['Not Hospitalized', 'Hospitalized'])\n",
    "plt.title('Logistic Regression Confusion Matrix with Illnesses and Species');"
   ]
  },
  {
   "cell_type": "code",
   "execution_count": 101,
   "metadata": {},
   "outputs": [
    {
     "data": {
      "image/png": "[encoded data removed]",
      "text/plain": [
       "<Figure size 432x288 with 1 Axes>"
      ]
     },
     "metadata": {
      "needs_background": "light"
     },
     "output_type": "display_data"
    }
   ],
   "source": [
    "plot_roc_curve(gs_lrg1, X_test, y_test)\n",
    "plt.title('Logistic Regression ROC Curve with Illnesses and Species');"
   ]
  },
  {
   "cell_type": "code",
   "execution_count": 75,
   "metadata": {},
   "outputs": [],
   "source": [
    "pred = gs_lrg1.predict(X_test)\n",
    "\n",
    "print(1 - recall_score(y_test, pred)) #false negatives FN/FN+TP\n",
    "\n",
    "print(f1_score(y_test, pred)) #precision and recall looking to see if low false positive and low false negative rates "
   ]
  },
  {
   "cell_type": "markdown",
   "metadata": {},
   "source": [
    "## Model 2: Logistic Regression with all Features in Clean Dataset"
   ]
  },
  {
   "cell_type": "code",
   "execution_count": 166,
   "metadata": {},
   "outputs": [],
   "source": [
    "X = df_clean.drop('Hospitalizations', axis = 1)\n",
    "\n",
    "y = df_clean['Hospitalizations']\n",
    "\n",
    "X_train, X_test, y_train, y_test = train_test_split(X, y, stratify = y, random_state = 22)"
   ]
  },
  {
   "cell_type": "code",
   "execution_count": 167,
   "metadata": {},
   "outputs": [
    {
     "name": "stderr",
     "output_type": "stream",
     "text": [
      "/Users/annafunsten/opt/anaconda3/lib/python3.8/site-packages/category_encoders/utils.py:21: FutureWarning: is_categorical is deprecated and will be removed in a future version.  Use is_categorical_dtype instead\n",
      "  elif pd.api.types.is_categorical(cols):\n"
     ]
    },
    {
     "data": {
      "text/plain": [
       "GridSearchCV(estimator=Pipeline(steps=[('onehotencoder',\n",
       "                                        OneHotEncoder(use_cat_names=True)),\n",
       "                                       ('simpleimputer',\n",
       "                                        SimpleImputer(strategy='most_frequent')),\n",
       "                                       ('standardscaler', StandardScaler()),\n",
       "                                       ('logisticregression',\n",
       "                                        LogisticRegression())]),\n",
       "             n_jobs=-1,\n",
       "             param_grid={'logisticregression__C': [0.001, 0.01, 0.1, 1, 10,\n",
       "                                                   100]})"
      ]
     },
     "execution_count": 167,
     "metadata": {},
     "output_type": "execute_result"
    }
   ],
   "source": [
    "pipe2 = make_pipeline(OneHotEncoder(use_cat_names = True), SimpleImputer(strategy = 'most_frequent'), StandardScaler(), LogisticRegression())\n",
    "\n",
    "params2 = {'logisticregression__C': [.001, .01, .1, 1, 10, 100]\n",
    "}\n",
    "\n",
    "gs_lrg2 = GridSearchCV(pipe2, params2, n_jobs=-1)\n",
    "\n",
    "gs_lrg2.fit(X_train, y_train)"
   ]
  },
  {
   "cell_type": "code",
   "execution_count": 168,
   "metadata": {},
   "outputs": [
    {
     "name": "stdout",
     "output_type": "stream",
     "text": [
      "0.8911022576361222\n",
      "0.7763769077637691\n",
      "{'logisticregression__C': 0.01}\n"
     ]
    }
   ],
   "source": [
    "print(gs_lrg2.score(X_train, y_train))\n",
    "\n",
    "print(gs_lrg2.score(X_test, y_test))\n",
    "\n",
    "print(gs_lrg2.best_params_)"
   ]
  },
  {
   "cell_type": "code",
   "execution_count": 109,
   "metadata": {},
   "outputs": [
    {
     "name": "stdout",
     "output_type": "stream",
     "text": [
      "Largest Coef:\n",
      "         coefs                                           features\n",
      "1911  0.592229                        Species_Salmonella enterica\n",
      "1914  0.448730    Species_Escherichia coli, Shiga toxin-producing\n",
      "2044  0.320392                                          Illnesses\n",
      "1945  0.290477                      Species_Clostridium botulinum\n",
      "2045  0.191436                                         Fatalities\n",
      "1923  0.151129                     Species_Listeria monocytogenes\n",
      "1912  0.134362                                 Species_Mycotoxins\n",
      "23    0.133439                                   State_Multistate\n",
      "1932  0.118051                            Species_Shigella sonnei\n",
      "1941  0.111512                                Species_Hepatitis A\n",
      "725   0.103299                               Food_Chips And Salsa\n",
      "97    0.103235                        Location_Religious Facility\n",
      "1940  0.099554  Species_Salmonella enterica; Campylobacter jejuni\n",
      "26    0.096299                                     State_New York\n",
      "80    0.095866              Location_Private Home/Residence; Camp\n",
      "16    0.094382                                         State_Ohio\n",
      "1966  0.093006                       Species_Trichinella spiralis\n",
      "70    0.092576                                Location_Farm/Dairy\n",
      "658   0.092244                  Food_Iceberg Lettuce, Unspecified\n",
      "1916  0.091158                            Species_Vibrio cholerae\n",
      "1952  0.090658  Species_Salmonella enterica; Salmonella enteri...\n",
      "50    0.088285                                      State_Arizona\n",
      "1082  0.086663                                 Food_Rice, Spanish\n",
      "1955  0.085549                 Species_Paralytic shellfish poison\n",
      "210   0.085392                                        Food_Turkey\n",
      "63    0.084091                                   State_New Mexico\n",
      "600   0.082528                                 Food_Fish, Buffalo\n",
      "1947  0.082242                           Species_Salmonella other\n",
      "1651  0.081818     Food_Lettuce, Unspecified; Tomato, Unspecified\n",
      "1993  0.081271         Species_Escherichia coli, Enteropathogenic\n",
      "Smallest Coef:\n",
      "         coefs                                          features\n",
      "1920 -0.362482                   Species_Clostridium perfringens\n",
      "1917 -0.286801                     Species_Norovirus genogroup I\n",
      "1925 -0.191537                           Species_Bacillus cereus\n",
      "1919 -0.189227                           Species_Scombroid toxin\n",
      "1926 -0.179892                         Species_Norovirus unknown\n",
      "1929 -0.149743  Species_Bacillus cereus; Clostridium perfringens\n",
      "1928 -0.137610    Species_Bacillus cereus; Staphylococcus aureus\n",
      "1924 -0.134615                         Species_Chemical or toxin\n",
      "1922 -0.117677                    Species_Norovirus genogroup II\n",
      "1936 -0.105035                                 Species_Norovirus\n"
     ]
    }
   ],
   "source": [
    "coefs2 = gs_lrg2.best_estimator_.named_steps['logisticregression'].coef_\n",
    "\n",
    "features2 = gs_lrg2.best_estimator_.named_steps['onehotencoder'].get_feature_names()\n",
    "\n",
    "coef_df2 = pd.DataFrame({'coefs': coefs2[0], \n",
    "                        'features': features2})\n",
    "\n",
    "print(f'Largest Coef:')\n",
    "print(coef_df2.nlargest(30, 'coefs'))\n",
    "\n",
    "print(f'Smallest Coef:')\n",
    "print(coef_df2.nsmallest(10, 'coefs'))"
   ]
  },
  {
   "cell_type": "code",
   "execution_count": 110,
   "metadata": {},
   "outputs": [
    {
     "data": {
      "image/png": "[encoded data removed]",
      "text/plain": [
       "<Figure size 432x288 with 2 Axes>"
      ]
     },
     "metadata": {
      "needs_background": "light"
     },
     "output_type": "display_data"
    }
   ],
   "source": [
    "plot_confusion_matrix(gs_lrg2, X_test, y_test, display_labels = ['Not Hospitalized', 'Hospitalized'])\n",
    "plt.title('Logistic Regression Confusion Matrix with all Features');"
   ]
  },
  {
   "cell_type": "code",
   "execution_count": 111,
   "metadata": {},
   "outputs": [
    {
     "data": {
      "image/png": "[encoded data removed]",
      "text/plain": [
       "<Figure size 432x288 with 1 Axes>"
      ]
     },
     "metadata": {
      "needs_background": "light"
     },
     "output_type": "display_data"
    }
   ],
   "source": [
    "plot_roc_curve(gs_lrg2, X_test, y_test)\n",
    "plt.title('Logistic Regression ROC Curve with all Features');"
   ]
  },
  {
   "cell_type": "code",
   "execution_count": 169,
   "metadata": {},
   "outputs": [
    {
     "name": "stdout",
     "output_type": "stream",
     "text": [
      "0.39852398523985244\n",
      "0.6592517694641051\n"
     ]
    }
   ],
   "source": [
    "pred = gs_lrg2.predict(X_test)\n",
    "\n",
    "print(1- recall_score(y_test, pred))\n",
    "\n",
    "print(f1_score(y_test, pred))"
   ]
  },
  {
   "cell_type": "markdown",
   "metadata": {},
   "source": [
    "## Model 3: Logistic Regression with State, Location, Food, Species, Illnesses "
   ]
  },
  {
   "cell_type": "code",
   "execution_count": 116,
   "metadata": {},
   "outputs": [],
   "source": [
    "X = df_clean[['State', 'Location', 'Food', 'Species', 'Illnesses']]\n",
    "\n",
    "y = df_clean['Hospitalizations']\n",
    "\n",
    "X_train, X_test, y_train, y_test = train_test_split(X, y, stratify = y, random_state = 22)"
   ]
  },
  {
   "cell_type": "code",
   "execution_count": 117,
   "metadata": {},
   "outputs": [
    {
     "name": "stderr",
     "output_type": "stream",
     "text": [
      "/Users/annafunsten/opt/anaconda3/lib/python3.8/site-packages/category_encoders/utils.py:21: FutureWarning: is_categorical is deprecated and will be removed in a future version.  Use is_categorical_dtype instead\n",
      "  elif pd.api.types.is_categorical(cols):\n"
     ]
    },
    {
     "data": {
      "text/plain": [
       "GridSearchCV(estimator=Pipeline(steps=[('onehotencoder',\n",
       "                                        OneHotEncoder(use_cat_names=True)),\n",
       "                                       ('simpleimputer',\n",
       "                                        SimpleImputer(strategy='most_frequent')),\n",
       "                                       ('standardscaler', StandardScaler()),\n",
       "                                       ('logisticregression',\n",
       "                                        LogisticRegression())]),\n",
       "             n_jobs=-1,\n",
       "             param_grid={'logisticregression__C': [0.001, 0.01, 0.1, 1, 10,\n",
       "                                                   100]})"
      ]
     },
     "execution_count": 117,
     "metadata": {},
     "output_type": "execute_result"
    }
   ],
   "source": [
    "pipe3 = make_pipeline(OneHotEncoder(use_cat_names = True), SimpleImputer(strategy = 'most_frequent'), StandardScaler(), LogisticRegression())\n",
    "\n",
    "params3 = {'logisticregression__C': [.001, .01, .1, 1, 10, 100]\n",
    "}\n",
    "\n",
    "gs_lrg3 = GridSearchCV(pipe3, params3, n_jobs=-1)\n",
    "\n",
    "gs_lrg3.fit(X_train, y_train)"
   ]
  },
  {
   "cell_type": "code",
   "execution_count": 118,
   "metadata": {},
   "outputs": [
    {
     "name": "stdout",
     "output_type": "stream",
     "text": [
      "0.8884462151394422\n",
      "0.774386197743862\n",
      "{'logisticregression__C': 0.01}\n"
     ]
    }
   ],
   "source": [
    "print(gs_lrg3.score(X_train, y_train))\n",
    "\n",
    "print(gs_lrg3.score(X_test, y_test))\n",
    "\n",
    "print(gs_lrg3.best_params_)"
   ]
  },
  {
   "cell_type": "code",
   "execution_count": 119,
   "metadata": {},
   "outputs": [
    {
     "name": "stdout",
     "output_type": "stream",
     "text": [
      "Largest Coef:\n",
      "         coefs                                           features\n",
      "1898  0.596140                        Species_Salmonella enterica\n",
      "1901  0.452429    Species_Escherichia coli, Shiga toxin-producing\n",
      "2031  0.325498                                          Illnesses\n",
      "1932  0.291536                      Species_Clostridium botulinum\n",
      "1910  0.179627                     Species_Listeria monocytogenes\n",
      "10    0.140906                                   State_Multistate\n",
      "1899  0.134148                                 Species_Mycotoxins\n",
      "1928  0.117140                                Species_Hepatitis A\n",
      "1919  0.116828                            Species_Shigella sonnei\n",
      "84    0.104062                        Location_Religious Facility\n",
      "712   0.102910                               Food_Chips And Salsa\n",
      "67    0.098544              Location_Private Home/Residence; Camp\n",
      "1927  0.097736  Species_Salmonella enterica; Campylobacter jejuni\n",
      "3     0.095618                                         State_Ohio\n",
      "13    0.094977                                     State_New York\n",
      "1953  0.093271                       Species_Trichinella spiralis\n",
      "1903  0.092729                            Species_Vibrio cholerae\n",
      "1939  0.091958  Species_Salmonella enterica; Salmonella enteri...\n",
      "645   0.091830                  Food_Iceberg Lettuce, Unspecified\n",
      "57    0.088928                                Location_Farm/Dairy\n",
      "1942  0.085280                 Species_Paralytic shellfish poison\n",
      "37    0.084669                                      State_Arizona\n",
      "1980  0.083984         Species_Escherichia coli, Enteropathogenic\n",
      "1069  0.083169                                 Food_Rice, Spanish\n",
      "50    0.081815                                   State_New Mexico\n",
      "1946  0.081743                           Species_Brucella unknown\n",
      "587   0.080917                                 Food_Fish, Buffalo\n",
      "716   0.080629                                           Food_Bun\n",
      "2010  0.080479                               Species_Vibrio other\n",
      "1638  0.080371     Food_Lettuce, Unspecified; Tomato, Unspecified\n",
      "Smallest Coef:\n",
      "         coefs                                          features\n",
      "1907 -0.363803                   Species_Clostridium perfringens\n",
      "1904 -0.291696                     Species_Norovirus genogroup I\n",
      "1906 -0.189506                           Species_Scombroid toxin\n",
      "1912 -0.187950                           Species_Bacillus cereus\n",
      "1913 -0.180692                         Species_Norovirus unknown\n",
      "1916 -0.147662  Species_Bacillus cereus; Clostridium perfringens\n",
      "1915 -0.137553    Species_Bacillus cereus; Staphylococcus aureus\n",
      "1911 -0.133798                         Species_Chemical or toxin\n",
      "1909 -0.130307                    Species_Norovirus genogroup II\n",
      "1923 -0.108146                                 Species_Norovirus\n"
     ]
    }
   ],
   "source": [
    "coefs3 = gs_lrg3.best_estimator_.named_steps['logisticregression'].coef_\n",
    "\n",
    "features3 = gs_lrg3.best_estimator_.named_steps['onehotencoder'].get_feature_names()\n",
    "\n",
    "coef_df3 = pd.DataFrame({'coefs': coefs3[0], \n",
    "                        'features': features3})\n",
    "\n",
    "print(f'Largest Coef:')\n",
    "print(coef_df3.nlargest(30, 'coefs'))\n",
    "\n",
    "print(f'Smallest Coef:')\n",
    "print(coef_df3.nsmallest(10, 'coefs'))"
   ]
  },
  {
   "cell_type": "code",
   "execution_count": 121,
   "metadata": {},
   "outputs": [
    {
     "data": {
      "image/png": "[encoded data removed]",
      "text/plain": [
       "<Figure size 432x288 with 2 Axes>"
      ]
     },
     "metadata": {
      "needs_background": "light"
     },
     "output_type": "display_data"
    }
   ],
   "source": [
    "plot_confusion_matrix(gs_lrg3, X_test, y_test, display_labels = ['Not Hospitalized', 'Hospitalized'])\n",
    "plt.title('Logistic Regression Confusion Matrix with State, Location, Food, Species, Illnesses');"
   ]
  },
  {
   "cell_type": "code",
   "execution_count": 122,
   "metadata": {},
   "outputs": [
    {
     "data": {
      "image/png": "[encoded data removed]",
      "text/plain": [
       "<Figure size 432x288 with 1 Axes>"
      ]
     },
     "metadata": {
      "needs_background": "light"
     },
     "output_type": "display_data"
    }
   ],
   "source": [
    "plot_roc_curve(gs_lrg3, X_test, y_test)\n",
    "plt.title('Logistic Regression ROC Curve with State, Location, Food, Species, Illnesses');"
   ]
  },
  {
   "cell_type": "code",
   "execution_count": 123,
   "metadata": {},
   "outputs": [
    {
     "name": "stdout",
     "output_type": "stream",
     "text": [
      "0.40590405904059046\n",
      "0.6544715447154472\n"
     ]
    }
   ],
   "source": [
    "pred = gs_lrg3.predict(X_test)\n",
    "\n",
    "print(1- recall_score(y_test, pred))\n",
    "\n",
    "print(f1_score(y_test, pred))"
   ]
  },
  {
   "cell_type": "markdown",
   "metadata": {},
   "source": [
    "## Model 4: Naive Bayes with State, Location, Food, Species, Illnesses "
   ]
  },
  {
   "cell_type": "code",
   "execution_count": 129,
   "metadata": {},
   "outputs": [
    {
     "name": "stderr",
     "output_type": "stream",
     "text": [
      "/Users/annafunsten/opt/anaconda3/lib/python3.8/site-packages/category_encoders/utils.py:21: FutureWarning: is_categorical is deprecated and will be removed in a future version.  Use is_categorical_dtype instead\n",
      "  elif pd.api.types.is_categorical(cols):\n"
     ]
    },
    {
     "data": {
      "text/plain": [
       "GridSearchCV(estimator=Pipeline(steps=[('onehotencoder',\n",
       "                                        OneHotEncoder(use_cat_names=True)),\n",
       "                                       ('simpleimputer',\n",
       "                                        SimpleImputer(strategy='most_frequent')),\n",
       "                                       ('multinomialnb', MultinomialNB())]),\n",
       "             n_jobs=-1,\n",
       "             param_grid={'multinomialnb__alpha': [0.01, 0.1, 1.0, 10.0]})"
      ]
     },
     "execution_count": 129,
     "metadata": {},
     "output_type": "execute_result"
    }
   ],
   "source": [
    "pipe4 = make_pipeline(OneHotEncoder(use_cat_names = True), SimpleImputer(strategy = 'most_frequent'), MultinomialNB())\n",
    "\n",
    "params4 = {'multinomialnb__alpha': [0.01, 0.1, 1.0, 10.0]\n",
    "}\n",
    "\n",
    "gs_bay4 = GridSearchCV(pipe4, params4, n_jobs=-1)\n",
    "\n",
    "gs_bay4.fit(X_train, y_train)"
   ]
  },
  {
   "cell_type": "code",
   "execution_count": 130,
   "metadata": {},
   "outputs": [
    {
     "name": "stdout",
     "output_type": "stream",
     "text": [
      "0.7959274015050908\n",
      "0.7405441274054413\n",
      "{'multinomialnb__alpha': 1.0}\n"
     ]
    }
   ],
   "source": [
    "print(gs_bay4.score(X_train, y_train))\n",
    "\n",
    "print(gs_bay4.score(X_test, y_test))\n",
    "\n",
    "print(gs_bay4.best_params_)"
   ]
  },
  {
   "cell_type": "code",
   "execution_count": 132,
   "metadata": {},
   "outputs": [
    {
     "data": {
      "image/png": "[encoded data removed]",
      "text/plain": [
       "<Figure size 432x288 with 2 Axes>"
      ]
     },
     "metadata": {
      "needs_background": "light"
     },
     "output_type": "display_data"
    }
   ],
   "source": [
    "plot_confusion_matrix(gs_bay4, X_test, y_test, display_labels = ['Not Hospitalized', 'Hospitalized'])\n",
    "plt.title('Confusion Matrix Naive Bayes with State, Location, Food, Species, Illnesses');"
   ]
  },
  {
   "cell_type": "code",
   "execution_count": 136,
   "metadata": {},
   "outputs": [
    {
     "data": {
      "image/png": "[encoded data removed]",
      "text/plain": [
       "<Figure size 432x288 with 1 Axes>"
      ]
     },
     "metadata": {
      "needs_background": "light"
     },
     "output_type": "display_data"
    }
   ],
   "source": [
    "plot_roc_curve(gs_bay4, X_test, y_test)\n",
    "plt.title('ROC Curve Naive Bayes with State, Location, Food, Species, Illnesses');"
   ]
  },
  {
   "cell_type": "code",
   "execution_count": 133,
   "metadata": {},
   "outputs": [
    {
     "name": "stdout",
     "output_type": "stream",
     "text": [
      "0.43173431734317347\n",
      "0.6117179741807348\n"
     ]
    }
   ],
   "source": [
    "pred = gs_bay4.predict(X_test)\n",
    "\n",
    "print(1- recall_score(y_test, pred))\n",
    "\n",
    "print(f1_score(y_test, pred))"
   ]
  },
  {
   "cell_type": "markdown",
   "metadata": {},
   "source": [
    "## Model 5: Decision Tree with State, Location, Food, Species, Illnesses "
   ]
  },
  {
   "cell_type": "code",
   "execution_count": 142,
   "metadata": {},
   "outputs": [
    {
     "name": "stderr",
     "output_type": "stream",
     "text": [
      "/Users/annafunsten/opt/anaconda3/lib/python3.8/site-packages/category_encoders/utils.py:21: FutureWarning: is_categorical is deprecated and will be removed in a future version.  Use is_categorical_dtype instead\n",
      "  elif pd.api.types.is_categorical(cols):\n"
     ]
    },
    {
     "data": {
      "text/plain": [
       "GridSearchCV(estimator=Pipeline(steps=[('onehotencoder',\n",
       "                                        OneHotEncoder(use_cat_names=True)),\n",
       "                                       ('simpleimputer',\n",
       "                                        SimpleImputer(strategy='most_frequent')),\n",
       "                                       ('decisiontreeclassifier',\n",
       "                                        DecisionTreeClassifier())]),\n",
       "             n_jobs=-1,\n",
       "             param_grid={'decisiontreeclassifier__max_depth': [5, 10, 50]})"
      ]
     },
     "execution_count": 142,
     "metadata": {},
     "output_type": "execute_result"
    }
   ],
   "source": [
    "pipe5 = make_pipeline(OneHotEncoder(use_cat_names = True), SimpleImputer(strategy = 'most_frequent'), DecisionTreeClassifier())\n",
    "\n",
    "params5 = {'decisiontreeclassifier__max_depth': [5,10,50]}\n",
    "\n",
    "gs_tree5 = GridSearchCV(pipe5, params5, n_jobs=-1)\n",
    "\n",
    "gs_tree5.fit(X_train, y_train)"
   ]
  },
  {
   "cell_type": "code",
   "execution_count": 143,
   "metadata": {},
   "outputs": [
    {
     "name": "stdout",
     "output_type": "stream",
     "text": [
      "0.8244798583444002\n",
      "0.8002654280026543\n",
      "{'decisiontreeclassifier__max_depth': 10}\n"
     ]
    }
   ],
   "source": [
    "print(gs_tree5.score(X_train, y_train))\n",
    "\n",
    "print(gs_tree5.score(X_test, y_test))\n",
    "\n",
    "print(gs_tree5.best_params_)"
   ]
  },
  {
   "cell_type": "code",
   "execution_count": 146,
   "metadata": {},
   "outputs": [
    {
     "name": "stdout",
     "output_type": "stream",
     "text": [
      "Largest Feature Importance:\n",
      "      importance                                         features\n",
      "1898    0.331209                      Species_Salmonella enterica\n",
      "1901    0.182195  Species_Escherichia coli, Shiga toxin-producing\n",
      "2031    0.126568                                        Illnesses\n",
      "1932    0.054565                    Species_Clostridium botulinum\n",
      "1910    0.038289                   Species_Listeria monocytogenes\n",
      "1907    0.018854                  Species_Clostridium perfringens\n",
      "56      0.015690                  Location_Private Home/Residence\n",
      "1919    0.012824                          Species_Shigella sonnei\n",
      "1928    0.011406                              Species_Hepatitis A\n",
      "54      0.008708                              Location_Restaurant\n",
      "1899    0.007881                               Species_Mycotoxins\n",
      "3       0.006866                                       State_Ohio\n",
      "1946    0.006747                         Species_Brucella unknown\n",
      "4       0.006224                                 State_California\n",
      "16      0.005890                                       State_Utah\n",
      "1942    0.005836               Species_Paralytic shellfish poison\n",
      "0       0.005700                                 State_Washington\n",
      "195     0.005318                               Food_Pork, Roasted\n",
      "1924    0.004872                       Species_Salmonella unknown\n",
      "1987    0.004775                   Species_Plant or herbal toxins\n",
      "1902    0.004335                     Species_Campylobacter jejuni\n",
      "70      0.004328                             Location_Prison/Jail\n",
      "1905    0.004288                    Species_Staphylococcus aureus\n",
      "72      0.004150      Location_Restaurant; Private Home/Residence\n",
      "10      0.004108                                 State_Multistate\n",
      "381     0.004019                        Food_Lettuce Based Salads\n",
      "34      0.003599                                     State_Nevada\n",
      "348     0.003526                               Food_Chicken Salad\n",
      "17      0.003422                                    State_Florida\n",
      "217     0.003000                                   Food_Salad Bar\n",
      "Smallest Feature Importance:\n",
      "    importance              features\n",
      "1          0.0        State_Illinois\n",
      "2          0.0          State_Hawaii\n",
      "5          0.0     State_Connecticut\n",
      "7          0.0       State_Louisiana\n",
      "8          0.0        State_Michigan\n",
      "9          0.0       State_Minnesota\n",
      "11         0.0      State_New Jersey\n",
      "13         0.0        State_New York\n",
      "14         0.0    State_North Dakota\n",
      "15         0.0  State_North Carolina\n"
     ]
    }
   ],
   "source": [
    "importance5 = gs_tree5.best_estimator_.named_steps['decisiontreeclassifier'].feature_importances_\n",
    "\n",
    "features5 = gs_tree5.best_estimator_.named_steps['onehotencoder'].get_feature_names()\n",
    "\n",
    "importance_df5 = pd.DataFrame({'importance': importance5, \n",
    "                        'features': features5})\n",
    "\n",
    "print(f'Largest Feature Importance:')\n",
    "print(importance_df5.nlargest(30, 'importance'))\n",
    "\n",
    "print(f'Smallest Feature Importance:')\n",
    "print(importance_df5.nsmallest(10, 'importance'))"
   ]
  },
  {
   "cell_type": "code",
   "execution_count": 147,
   "metadata": {},
   "outputs": [
    {
     "data": {
      "image/png": "[encoded data removed]",
      "text/plain": [
       "<Figure size 432x288 with 2 Axes>"
      ]
     },
     "metadata": {
      "needs_background": "light"
     },
     "output_type": "display_data"
    }
   ],
   "source": [
    "plot_confusion_matrix(gs_tree5, X_test, y_test, display_labels = ['Not Hospitalized', 'Hospitalized'])\n",
    "plt.title('Confusion Matrix Tree Classifier with State, Location, Food, Species, Illnesses');"
   ]
  },
  {
   "cell_type": "code",
   "execution_count": 149,
   "metadata": {},
   "outputs": [
    {
     "data": {
      "image/png": "[encoded data removed]",
      "text/plain": [
       "<Figure size 432x288 with 1 Axes>"
      ]
     },
     "metadata": {
      "needs_background": "light"
     },
     "output_type": "display_data"
    }
   ],
   "source": [
    "plot_roc_curve(gs_tree5, X_test, y_test)\n",
    "plt.title('ROC Curve Tree Classifier with State, Location, Food, Species, Illnesses');"
   ]
  },
  {
   "cell_type": "code",
   "execution_count": 150,
   "metadata": {},
   "outputs": [
    {
     "name": "stdout",
     "output_type": "stream",
     "text": [
      "0.3929889298892989\n",
      "0.6861313868613138\n"
     ]
    }
   ],
   "source": [
    "pred = gs_tree5.predict(X_test)\n",
    "\n",
    "print(1- recall_score(y_test, pred))\n",
    "\n",
    "print(f1_score(y_test, pred))"
   ]
  },
  {
   "cell_type": "markdown",
   "metadata": {},
   "source": [
    "## Model 6: KNN with State, Location, Food, Species, Illnesses "
   ]
  },
  {
   "cell_type": "code",
   "execution_count": 151,
   "metadata": {},
   "outputs": [
    {
     "name": "stderr",
     "output_type": "stream",
     "text": [
      "/Users/annafunsten/opt/anaconda3/lib/python3.8/site-packages/category_encoders/utils.py:21: FutureWarning: is_categorical is deprecated and will be removed in a future version.  Use is_categorical_dtype instead\n",
      "  elif pd.api.types.is_categorical(cols):\n"
     ]
    },
    {
     "data": {
      "text/plain": [
       "GridSearchCV(estimator=Pipeline(steps=[('onehotencoder',\n",
       "                                        OneHotEncoder(use_cat_names=True)),\n",
       "                                       ('simpleimputer',\n",
       "                                        SimpleImputer(strategy='most_frequent')),\n",
       "                                       ('standardscaler', StandardScaler()),\n",
       "                                       ('kneighborsclassifier',\n",
       "                                        KNeighborsClassifier())]),\n",
       "             n_jobs=-1,\n",
       "             param_grid={'kneighborsclassifier__n_neighbors': [5, 10, 20, 50]})"
      ]
     },
     "execution_count": 151,
     "metadata": {},
     "output_type": "execute_result"
    }
   ],
   "source": [
    "pipe6 = make_pipeline(OneHotEncoder(use_cat_names = True), SimpleImputer(strategy = 'most_frequent'), StandardScaler(), KNeighborsClassifier())\n",
    "\n",
    "params6 = {'kneighborsclassifier__n_neighbors': [5,10,20,50]}\n",
    "\n",
    "gs_knn6 = GridSearchCV(pipe6, params6, n_jobs=-1)\n",
    "\n",
    "gs_knn6.fit(X_train, y_train)"
   ]
  },
  {
   "cell_type": "code",
   "execution_count": 152,
   "metadata": {},
   "outputs": [
    {
     "name": "stdout",
     "output_type": "stream",
     "text": [
      "0.6969898185037627\n",
      "0.6622428666224287\n",
      "{'kneighborsclassifier__n_neighbors': 10}\n"
     ]
    }
   ],
   "source": [
    "print(gs_knn6.score(X_train, y_train))\n",
    "\n",
    "print(gs_knn6.score(X_test, y_test))\n",
    "\n",
    "print(gs_knn6.best_params_)"
   ]
  },
  {
   "cell_type": "code",
   "execution_count": 153,
   "metadata": {},
   "outputs": [
    {
     "data": {
      "image/png": "[encoded data removed]",
      "text/plain": [
       "<Figure size 432x288 with 2 Axes>"
      ]
     },
     "metadata": {
      "needs_background": "light"
     },
     "output_type": "display_data"
    }
   ],
   "source": [
    "plot_confusion_matrix(gs_knn6, X_test, y_test, display_labels = ['Not Hospitalized', 'Hospitalized'])\n",
    "plt.title('Confusion Matrix KNN with State, Location, Food, Species, Illnesses');"
   ]
  },
  {
   "cell_type": "code",
   "execution_count": 154,
   "metadata": {},
   "outputs": [
    {
     "data": {
      "image/png": "[encoded data removed]",
      "text/plain": [
       "<Figure size 432x288 with 1 Axes>"
      ]
     },
     "metadata": {
      "needs_background": "light"
     },
     "output_type": "display_data"
    }
   ],
   "source": [
    "plot_roc_curve(gs_knn6, X_test, y_test)\n",
    "plt.title('ROC Curve KNN with State, Location, Food, Species, Illnesses');"
   ]
  },
  {
   "cell_type": "code",
   "execution_count": 158,
   "metadata": {},
   "outputs": [
    {
     "name": "stdout",
     "output_type": "stream",
     "text": [
      "0.8800738007380073\n",
      "0.20344287949921752\n",
      "0.5433827887501673\n"
     ]
    }
   ],
   "source": [
    "pred = gs_knn6.predict(X_test)\n",
    "\n",
    "print(1- recall_score(y_test, pred))\n",
    "\n",
    "print(f1_score(y_test, pred))"
   ]
  }
 ],
 "metadata": {
  "kernelspec": {
   "display_name": "Python 3",
   "language": "python",
   "name": "python3"
  },
  "language_info": {
   "codemirror_mode": {
    "name": "ipython",
    "version": 3
   },
   "file_extension": ".py",
   "mimetype": "text/x-python",
   "name": "python",
   "nbconvert_exporter": "python",
   "pygments_lexer": "ipython3",
   "version": "3.8.8"
  }
 },
 "nbformat": 4,
 "nbformat_minor": 4
}
